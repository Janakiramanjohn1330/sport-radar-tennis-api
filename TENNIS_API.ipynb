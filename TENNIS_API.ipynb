{
 "cells": [
  {
   "cell_type": "markdown",
   "metadata": {},
   "source": [
    "COMPETITION AND CATEGORY DATA\n",
    "\n"
   ]
  },
  {
   "cell_type": "code",
   "execution_count": null,
   "metadata": {},
   "outputs": [],
   "source": [
    "import requests\n",
    "\n",
    "# API URL and headers\n",
    "url = \"https://api.sportradar.com/tennis/trial/v3/en/competitions.json?api_key=Gue31O4XqERTleO3UFdRRVCU2bqtSICHBp4SgNzD\"\n",
    "headers = {\"accept\": \"application/json\"}\n",
    "\n",
    "# Sending GET request\n",
    "response = requests.get(url, headers=headers)\n",
    "\n",
    "# Check if the response was successful\n",
    "if response.status_code == 200:\n",
    "    json_data = response.json()  # Parse the JSON response\n",
    "\n",
    "    competition_data = []  # List to store competition data\n",
    "    category_data=[]\n",
    "    # Loop through the competitions\n",
    "    for competition in json_data[\"competitions\"]:\n",
    "        competiton_info = {\n",
    "            \"id\": competition[\"id\"],\n",
    "            \"name\": competition[\"name\"],\n",
    "            \"parent_id\": competition[\"id\"],  # Fix parent_id to be competition[\"parent_id\"]\n",
    "            \"type\": competition[\"type\"],\n",
    "            \"gender\": competition[\"gender\"],\n",
    "            \"category_id\": competition.get(\"category\", {}).get(\"id\")  # Safely get category id\n",
    "        }\n",
    "        competition_data.append(competiton_info)\n",
    "        \n",
    "   \n",
    "\n",
    "        category=competition.get(\"category\",{})\n",
    "        category_info={\n",
    "             \"id\":category.get(\"id\"),\n",
    "             \"name\":category.get(\"name\")\n",
    "        }\n",
    "        category_data.append(category_info)\n",
    "    # Print or process the competition data\n",
    "    print(\"data inserted successfull\")\n",
    "    \n",
    "\n",
    "else:\n",
    "    print(\"Failed to fetch data:\", response.status_code)\n"
   ]
  },
  {
   "cell_type": "code",
   "execution_count": 2,
   "metadata": {},
   "outputs": [],
   "source": [
    "import pandas as pd        # IMPORT PANDAS TO CREATE A DATAFRAME\n",
    "\n",
    "df=pd.DataFrame(competition_data)"
   ]
  },
  {
   "cell_type": "code",
   "execution_count": 3,
   "metadata": {},
   "outputs": [],
   "source": [
    "df.fillna(\"NULL\",inplace=True)"
   ]
  },
  {
   "cell_type": "code",
   "execution_count": 4,
   "metadata": {},
   "outputs": [],
   "source": [
    "df.to_csv(\"competition_table_1.csv\",index=True)    # CONVERT A DATAFRAME INTO CSV FILE "
   ]
  },
  {
   "cell_type": "code",
   "execution_count": null,
   "metadata": {},
   "outputs": [],
   "source": [
    "df"
   ]
  },
  {
   "cell_type": "code",
   "execution_count": 6,
   "metadata": {},
   "outputs": [],
   "source": [
    "df2=pd.DataFrame(category_data)"
   ]
  },
  {
   "cell_type": "code",
   "execution_count": null,
   "metadata": {},
   "outputs": [],
   "source": [
    "df2.count()"
   ]
  },
  {
   "cell_type": "code",
   "execution_count": null,
   "metadata": {},
   "outputs": [],
   "source": [
    "df2.nunique()"
   ]
  },
  {
   "cell_type": "code",
   "execution_count": 9,
   "metadata": {},
   "outputs": [],
   "source": [
    "df2.to_csv(\"categories_table_2.csv\",index=True)"
   ]
  },
  {
   "cell_type": "code",
   "execution_count": null,
   "metadata": {},
   "outputs": [],
   "source": [
    "df2"
   ]
  },
  {
   "cell_type": "markdown",
   "metadata": {},
   "source": [
    "COMPLEX AND VENUE DATA's"
   ]
  },
  {
   "cell_type": "code",
   "execution_count": null,
   "metadata": {},
   "outputs": [],
   "source": [
    "import requests\n",
    "\n",
    "# API URL and headers\n",
    "url = \"https://api.sportradar.com/tennis/trial/v3/en/complexes.json?api_key=Gue31O4XqERTleO3UFdRRVCU2bqtSICHBp4SgNzD\"\n",
    "headers = {\"accept\": \"application/json\"}\n",
    "\n",
    "# Sending GET request\n",
    "response = requests.get(url, headers=headers)\n",
    "\n",
    "# Check if the request was successful\n",
    "if response.status_code == 200:\n",
    "    json_compdata = response.json()  # Parse the JSON response\n",
    "\n",
    "    complexe_data = []  # List to store complex data\n",
    "    venue_data = []  # List to store venue data\n",
    "\n",
    "    # Loop through the complexes\n",
    "    for complexe in json_compdata[\"complexes\"]:\n",
    "        complex_info = {\n",
    "            \"id\": complexe[\"id\"],\n",
    "            \"name\": complexe[\"name\"]\n",
    "        }\n",
    "        complexe_data.append(complex_info)\n",
    "\n",
    "        # Loop through the venues in each complex\n",
    "        for venue in complexe.get('venues', []):\n",
    "            venue_info = {\n",
    "                \"complex_id\": complexe['id'],  # Link to complex\n",
    "                \"venue_id\": venue['id'],\n",
    "                \"venue_name\": venue['name'],\n",
    "                \"city_name\": venue['city_name'],\n",
    "                \"country_name\": venue['country_name'],\n",
    "                \"country_code\": venue['country_code'],\n",
    "                \"timezone\": venue['timezone']\n",
    "            }\n",
    "            venue_data.append(venue_info)\n",
    "\n",
    "    # Print or process the data\n",
    "    print(\"Complex Data:\", complexe_data)\n",
    "    print(\"Venue Data:\", venue_data)\n",
    "\n",
    "else:\n",
    "    print(\"Failed to fetch data:\", response.status_code)\n"
   ]
  },
  {
   "cell_type": "code",
   "execution_count": 12,
   "metadata": {},
   "outputs": [],
   "source": [
    "df3=pd.DataFrame(complexe_data)"
   ]
  },
  {
   "cell_type": "code",
   "execution_count": 13,
   "metadata": {},
   "outputs": [],
   "source": [
    "df3.to_csv(\"complex_table_3.csv\",index=True)\n"
   ]
  },
  {
   "cell_type": "code",
   "execution_count": null,
   "metadata": {},
   "outputs": [],
   "source": [
    "df3"
   ]
  },
  {
   "cell_type": "code",
   "execution_count": 15,
   "metadata": {},
   "outputs": [],
   "source": [
    "df4=pd.DataFrame(venue_data)"
   ]
  },
  {
   "cell_type": "code",
   "execution_count": 16,
   "metadata": {},
   "outputs": [],
   "source": [
    "df4.to_csv(\"venue_table_4.csv\",index=False)"
   ]
  },
  {
   "cell_type": "code",
   "execution_count": null,
   "metadata": {},
   "outputs": [],
   "source": [
    "df4"
   ]
  },
  {
   "cell_type": "markdown",
   "metadata": {},
   "source": [
    "COMPETITOR_RANKING AND DATA's"
   ]
  },
  {
   "cell_type": "code",
   "execution_count": null,
   "metadata": {},
   "outputs": [],
   "source": [
    "import requests\n",
    "\n",
    "url = \"https://api.sportradar.com/tennis/trial/v3/en/double_competitors_rankings.json?api_key=Gue31O4XqERTleO3UFdRRVCU2bqtSICHBp4SgNzD\"\n",
    "\n",
    "headers = {\"accept\": \"application/json\"}\n",
    "\n",
    "response = requests.get(url, headers=headers)\n",
    "\n",
    "if response.status_code == 200:\n",
    "        com_data = response.json()\n",
    "\n",
    "        Competitor_Rankings = []\n",
    "        Competitors= []\n",
    "\n",
    "        for ranking in com_data.get(\"rankings\", []):\n",
    "            for comp in ranking.get(\"competitor_rankings\", []):\n",
    "                # Extract details for Competitor_Rankings_Table\n",
    "                comp_ranking = {\n",
    "                    \"rank\": comp.get(\"rank\"),\n",
    "                    \"movement\": comp.get(\"movement\"),  \n",
    "                    \"points\": comp.get(\"points\"),\n",
    "                    \"competitions_played\": comp.get(\"competitions_played\"),\n",
    "                    \"competitor_id\": comp[\"competitor\"].get(\"id\")\n",
    "                }\n",
    "                Competitor_Rankings.append(comp_ranking)\n",
    "\n",
    "                # Extract additional competitor details if needed for Competitors_Table\n",
    "                competitor_details = {\n",
    "                    \"id\": comp[\"competitor\"].get(\"id\"),\n",
    "                    \"name\": comp[\"competitor\"].get(\"name\"),\n",
    "                    \"country\": comp[\"competitor\"].get(\"country\"),\n",
    "                    \"country_code\":comp[\"competitor\"].get(\"country_code\"),\n",
    "                    \"abbreviation\":comp[\"competitor\"].get(\"abbreviation\")\n",
    "               }\n",
    "                Competitors.append(competitor_details)\n",
    "\n",
    "        # Example: Print the extracted tables\n",
    "        print(\"Competitor Rankings Table:\", Competitor_Rankings)\n",
    "        print(\"Competitors Table:\", Competitors)\n",
    "else:\n",
    "        print(f\"Failed to fetch data. Status code: {response.status_code}\")\n",
    "\n"
   ]
  },
  {
   "cell_type": "code",
   "execution_count": 19,
   "metadata": {},
   "outputs": [],
   "source": [
    "df5=pd.DataFrame(Competitor_Rankings)"
   ]
  },
  {
   "cell_type": "code",
   "execution_count": 20,
   "metadata": {},
   "outputs": [],
   "source": [
    "df5.to_csv(\"competitor_rank_Table_5.csv\",index=True)"
   ]
  },
  {
   "cell_type": "code",
   "execution_count": null,
   "metadata": {},
   "outputs": [],
   "source": [
    "df5"
   ]
  },
  {
   "cell_type": "code",
   "execution_count": 22,
   "metadata": {},
   "outputs": [],
   "source": [
    "df6=pd.DataFrame(Competitors)"
   ]
  },
  {
   "cell_type": "code",
   "execution_count": 23,
   "metadata": {},
   "outputs": [],
   "source": [
    "df6.to_csv(\"competitor_Table_6.csv\",index=True)"
   ]
  },
  {
   "cell_type": "code",
   "execution_count": null,
   "metadata": {},
   "outputs": [],
   "source": [
    "df6"
   ]
  },
  {
   "cell_type": "code",
   "execution_count": 25,
   "metadata": {},
   "outputs": [],
   "source": [
    "#import the pymsql to connect mysql database\n",
    "import pymysql\n",
    "import pandas as pd\n",
    "\n",
    "\n",
    "conn = pymysql.connect(\n",
    "    host=\"localhost\",\n",
    "    user=\"root\",\n",
    "    password=\"Janakiramanjohn1330@\",\n",
    "    database=\"Tennis\"\n",
    ")\n",
    "mycursor=conn.cursor()"
   ]
  },
  {
   "cell_type": "code",
   "execution_count": null,
   "metadata": {},
   "outputs": [],
   "source": [
    "conn # checking the mysql connection"
   ]
  },
  {
   "cell_type": "markdown",
   "metadata": {},
   "source": [
    "SQL TABLE CREATION QUERY \n"
   ]
  },
  {
   "cell_type": "code",
   "execution_count": 32,
   "metadata": {},
   "outputs": [],
   "source": [
    "\n",
    "table_query1 =\"\"\"\n",
    "create table  categories(\n",
    "     category_id VARCHAR(50) PRIMARY KEY, \n",
    "     category_name VARCHAR(100) NOT NULL\n",
    ")\"\"\"\n",
    "\n",
    "mycursor.execute(table_query1)\n",
    "conn.commit()\n",
    "\n",
    "table_query_2=\"\"\"\n",
    "create table competition(\n",
    "      competition_id VARCHAR(50) PRIMARY KEY,  \n",
    "      competition_name VARCHAR(100) NOT NULL,\n",
    "      parent_id VARCHAR(50) ,\n",
    "      type VARCHAR(20)NOT NULL,\n",
    "      gender VARCHAR(10) NOT NULL ,\n",
    "      category_id VARCHAR(50),foreign key (category_id) references categories (category_id) #Links to the category table\n",
    ")\"\"\"\n",
    "\n",
    "mycursor.execute(table_query_2)\n",
    "conn.commit()\n",
    "\n",
    "\n",
    "\n",
    "table_query_3=\"\"\"\n",
    "create table Complexes(\n",
    "        complex_id VARCHAR(50) PRIMARY KEY, \n",
    "        complex_name VARCHAR(100)\n",
    "\n",
    "\n",
    ")\"\"\"\n",
    "mycursor.execute(table_query_3)\n",
    "conn.commit()\n",
    "\n",
    "\n",
    "table_query_4=\"\"\"\n",
    "create table venue(\n",
    "        venue_id VARCHAR(50) PRIMARY KEY,   \n",
    "        venue_name VARCHAR(100) NOT NULL,\n",
    "        city_name VARCHAR(100) NOT NULL,\n",
    "        country_name VARCHAR(100) NOT NULL,\n",
    "        country_code CHAR(3) NOT NULL,\n",
    "        timezone VARCHAR(100) NOT NULL,\n",
    "        complex_id VARCHAR(50),foreign key (complex_id) references complexes(complex_id) # Links to the complexes table\n",
    "       )\"\"\"\n",
    "mycursor.execute(table_query_4)\n",
    "conn.commit()\n",
    "\n",
    "\n",
    "table_query_5=\"\"\"\n",
    "create table competitors(\n",
    "        competitor_id VARCHAR(50) PRIMARY KEY,  \n",
    "        name_comp VARCHAR(100),\n",
    "        country VARCHAR(100) ,\n",
    "        country_code CHAR(3) ,\n",
    "        abbreviation VARCHAR(10) \n",
    "        )\"\"\"\n",
    "mycursor.execute(table_query_5)\n",
    "conn.commit()\n",
    "\n",
    "table_query_6=\"\"\"\n",
    "create table Competitor_Rankings(\n",
    "        rank_id INT AUTO_INCREMENT PRIMARY KEY, \n",
    "        ranks INT ,\n",
    "        movement INT  ,\n",
    "        points INT  ,\n",
    "        competitions_played INT ,\n",
    "        competitor_id VARCHAR(50),foreign key (competitor_id) references competitors(competitor_id) #Links to competitor details\n",
    "       )\"\"\"\n",
    "mycursor.execute(table_query_6)\n",
    "conn.commit()\n",
    "\n"
   ]
  },
  {
   "cell_type": "markdown",
   "metadata": {},
   "source": [
    "SQL INSERT QUERY"
   ]
  },
  {
   "cell_type": "code",
   "execution_count": 33,
   "metadata": {},
   "outputs": [],
   "source": [
    "insert_query1=\"\"\"\n",
    "insert into categories(category_id,category_name) values(%s,%s) \n",
    "On duplicate key update  \n",
    "  category_name= values (category_name)\n",
    "\"\"\"\n",
    "\n",
    "for index,row in df2.iterrows():\n",
    "  mycursor.execute(insert_query1,(row['id'],row['name']))\n",
    "conn.commit()\n",
    "\n",
    "insert_query2=\"\"\"\n",
    "insert into competition(competition_id,competition_name,parent_id,type,gender,category_id) values(%s,%s,%s,%s,%s,%s)\n",
    "\"\"\"\n",
    "for index,row in df.iterrows():\n",
    "    mycursor.execute(insert_query2,(row[\"id\"],row[\"name\"],row[\"parent_id\"],row[\"type\"],row[\"gender\"],row[\"category_id\"],))\n",
    "    conn.commit()"
   ]
  },
  {
   "cell_type": "code",
   "execution_count": 34,
   "metadata": {},
   "outputs": [],
   "source": [
    " #Execute the Following SQL queries;\n",
    "#1.List all competitions along with their category name\n",
    "#2.Count the number of competitions in each category\n",
    "#3.Find all competitions of type 'doubles'\n",
    "#4.Get competitions that belong to a specific category (e.g., ITF Men)\n",
    "#5.Identify parent competitions and their sub-competitions\n",
    "#6.Analyze the distribution of competition types by category\n",
    "#7.List all competitions with no parent (top-level competitions)\n"
   ]
  },
  {
   "cell_type": "code",
   "execution_count": null,
   "metadata": {},
   "outputs": [],
   "source": [
    "#1.List all competitions along with their category name\n",
    "q1=\"\"\"\n",
    "select\n",
    "    c.competition_id,\n",
    "    c.competition_name,\n",
    "    ca.category_name\n",
    "from \n",
    "    competition  c\n",
    "join\n",
    "    categories ca on c.category_id = ca.category_id;\n",
    "\"\"\"\n",
    "mycursor.execute(q1)\n",
    "result1=mycursor.fetchall()\n",
    "for row in result1:\n",
    "    print(row)"
   ]
  },
  {
   "cell_type": "code",
   "execution_count": null,
   "metadata": {},
   "outputs": [],
   "source": [
    "#2.Count the number of competitions in each category\n",
    "q2=\"\"\"\n",
    "SELECT \n",
    "    cat.category_name,\n",
    "    COUNT(c.competition_id) AS competition_count\n",
    "FROM \n",
    "    competition c\n",
    "JOIN \n",
    "    categories cat \n",
    "ON \n",
    "    c.category_id = cat.category_id\n",
    "GROUP BY \n",
    "    cat.category_name;\n",
    "\n",
    "\"\"\"\n",
    "mycursor.execute(q2)\n",
    "result2=mycursor.fetchall()\n",
    "for row in result2:\n",
    "    print(row )"
   ]
  },
  {
   "cell_type": "code",
   "execution_count": null,
   "metadata": {},
   "outputs": [],
   "source": [
    "#3.Find all competitions of type 'doubles'\n",
    "q3=\"\"\" \n",
    " SELECT \n",
    "    competition_id,\n",
    "    competition_name,\n",
    "    type\n",
    "FROM \n",
    "    competition\n",
    "WHERE \n",
    "    type = 'doubles';\n",
    "\n",
    "\"\"\"\n",
    "mycursor.execute(q3)\n",
    "result3=mycursor.fetchall()\n",
    "for row in result3:\n",
    "    print(row)"
   ]
  },
  {
   "cell_type": "code",
   "execution_count": null,
   "metadata": {},
   "outputs": [],
   "source": [
    "#4.Get competitions that belong to a specific category (e.g., ITF Men)\n",
    "q4=\"\"\"\n",
    "SELECT \n",
    "    c.competition_id, \n",
    "    c.competition_name,  \n",
    "    ca.category_id\n",
    "FROM \n",
    "    competition c\n",
    "JOIN \n",
    "   categories ca ON c.category_id = ca.category_id\n",
    "WHERE \n",
    "   ca.category_name = 'ITF Men';\n",
    "\"\"\"\n",
    "mycursor.execute(q4)\n",
    "result4=mycursor.fetchall()\n",
    "for row in result4:\n",
    "    print(row)"
   ]
  },
  {
   "cell_type": "code",
   "execution_count": null,
   "metadata": {},
   "outputs": [],
   "source": [
    "#5.Identify parent competitions and their sub-competitions\n",
    "q5=\"\"\"\n",
    "SELECT \n",
    "    p.competition_name AS parent_competition,\n",
    "    c.competition_name AS sub_competition\n",
    "FROM \n",
    "    competition c\n",
    "JOIN \n",
    "    competition p \n",
    "ON \n",
    "    c.parent_id = p.competition_id;\n",
    "\n",
    "\"\"\"\n",
    "mycursor.execute(q5)\n",
    "result5=mycursor.fetchall()\n",
    "for row in result5:\n",
    "    print(row)"
   ]
  },
  {
   "cell_type": "code",
   "execution_count": null,
   "metadata": {},
   "outputs": [],
   "source": [
    "#6.Analyze the distribution of competition types by category\n",
    "q6=\"\"\"\n",
    "SELECT \n",
    "    ca.category_name, \n",
    "    c.type, COUNT(c.competition_id) AS competition_count\n",
    "FROM \n",
    "    competition c\n",
    "JOIN \n",
    "   categories ca ON c.category_id = ca.category_id\n",
    "GROUP BY ca.category_name, c.type\n",
    "ORDER BY ca.category_name, c.type;\n",
    "\"\"\"\n",
    "mycursor.execute(q6)\n",
    "result6=mycursor.fetchall()\n",
    "print(\"distribution of competition types by category\")\n",
    "for row in result6:\n",
    "    print(row)"
   ]
  },
  {
   "cell_type": "code",
   "execution_count": 52,
   "metadata": {},
   "outputs": [],
   "source": [
    "#7.List all competitions with no parent (top-level competitions)\n",
    "q7=\"\"\"\n",
    "SELECT competition_name, competition_id, type, gender, category_id\n",
    "FROM competition\n",
    "WHERE \n",
    "   parent_id IS NULL;\n",
    "\"\"\"\n",
    "mycursor.execute(q7)\n",
    "result7=mycursor.fetchall()\n",
    "for row in result7:\n",
    "    print(row)"
   ]
  },
  {
   "cell_type": "code",
   "execution_count": 37,
   "metadata": {},
   "outputs": [],
   "source": [
    "insert_query3=\"\"\"\n",
    "insert into Complexes(Complex_id,complex_name)values(%s,%s)\n",
    "\n",
    "\"\"\"\n",
    "for index,row in df3.iterrows():\n",
    "    mycursor.execute(insert_query3,(row[\"id\"],row[\"name\"]))\n",
    "    conn.commit()\n",
    "\n",
    "insert_query4=\"\"\"\n",
    "insert into venue(venue_id,venue_name,city_name,country_name,country_code,timezone,complex_id)values(%s,%s,%s,%s,%s,%s,%s)\n",
    "\"\"\"\n",
    "for index ,row in df4.iterrows():\n",
    "    mycursor.execute(insert_query4,(row[\"venue_id\"],row[\"venue_name\"],row[\"city_name\"],row[\"country_name\"],row[\"country_code\"],row[\"timezone\"],row[\"complex_id\"]))\n",
    "    conn.commit()"
   ]
  },
  {
   "cell_type": "code",
   "execution_count": 42,
   "metadata": {},
   "outputs": [],
   "source": [
    "#Execute the following SQL queries:\n",
    "#1.List all venues along with their associated complex name\n",
    "#2.Count the number of venues in each complex\n",
    "#3.Get details of venues in a specific country (e.g., Chile)\n",
    "#4.Identify all venues and their timezones\n",
    "#5.Find complexes that have more than one venue\n",
    "#6.List venues grouped by country\n",
    "#7.Find all venues for a specific complex (e.g., Nacional)\n"
   ]
  },
  {
   "cell_type": "code",
   "execution_count": null,
   "metadata": {},
   "outputs": [],
   "source": [
    "#1.List all venues along with their associated complex name\n",
    "cq1=\"\"\"\n",
    "SELECT \n",
    "    v.venue_id, \n",
    "    v.venue_name, \n",
    "    c.complex_name\n",
    "FROM \n",
    "    venue v\n",
    "JOIN \n",
    "    Complexes c ON v.complex_id = c.Complex_id;\n",
    "\"\"\"\n",
    "mycursor.execute(cq1)\n",
    "result11=mycursor.fetchall()\n",
    "for row in result11:\n",
    "    print(row)"
   ]
  },
  {
   "cell_type": "code",
   "execution_count": null,
   "metadata": {},
   "outputs": [],
   "source": [
    "#2.Count the number of venues in each complex\n",
    "cq2=\"\"\"\n",
    "SELECT c.complex_name, COUNT(v.venue_id) AS venue_count\n",
    "FROM venue v\n",
    "JOIN Complexes c ON v.complex_id = c.Complex_id\n",
    "GROUP BY c.complex_name;\n",
    "\"\"\"\n",
    "mycursor.execute(cq2)\n",
    "result22=mycursor.fetchall()\n",
    "for row in result22:\n",
    "    print(row)"
   ]
  },
  {
   "cell_type": "code",
   "execution_count": null,
   "metadata": {},
   "outputs": [],
   "source": [
    "#3.Get details of venues in a specific country (e.g., Chile)\n",
    "cq3=\"\"\"\n",
    "SELECT venue_id, venue_name, city_name, country_name, country_code, timezone, complex_id\n",
    "FROM venue\n",
    "WHERE country_name = 'Chile';\n",
    "\"\"\"\n",
    "mycursor.execute(cq3)\n",
    "result33=mycursor.fetchall()\n",
    "for row in result33:\n",
    "    print(row)"
   ]
  },
  {
   "cell_type": "code",
   "execution_count": null,
   "metadata": {},
   "outputs": [],
   "source": [
    "#4. Identify all venues and their timezones\n",
    "cq4=\"\"\"\n",
    "SELECT venue_id, venue_name, timezone\n",
    "FROM venue;\n",
    "\"\"\"\n",
    "mycursor.execute(cq4)\n",
    "result44=mycursor.fetchall()\n",
    "for row in result44:\n",
    "    print(row)"
   ]
  },
  {
   "cell_type": "code",
   "execution_count": null,
   "metadata": {},
   "outputs": [],
   "source": [
    "#5.Find complexes that have more than one venue\n",
    "cq5=\"\"\"\n",
    "SELECT \n",
    "    c.complex_id,\n",
    "    c.complex_name,\n",
    "    COUNT(v.venue_id) AS venue_count\n",
    "FROM \n",
    "    venue v\n",
    "JOIN \n",
    "    complexes c \n",
    "ON \n",
    "    v.complex_id = c.complex_id\n",
    "GROUP BY \n",
    "    c.complex_id, c.complex_name\n",
    "HAVING \n",
    "    COUNT(v.venue_id) > 1;\n",
    "\n",
    "\"\"\"\n",
    "mycursor.execute(cq5)\n",
    "result55=mycursor.fetchall()\n",
    "for row in result55:\n",
    "    print(result55)"
   ]
  },
  {
   "cell_type": "code",
   "execution_count": null,
   "metadata": {},
   "outputs": [],
   "source": [
    "#6.List venues grouped by country\n",
    "cq6=\"\"\"\n",
    "SELECT country_name, GROUP_CONCAT(venue_name ORDER BY venue_name) AS venues\n",
    "FROM venue\n",
    "GROUP BY country_name\n",
    "\"\"\"\n",
    "mycursor.execute(cq6)\n",
    "result66=mycursor.fetchall()\n",
    "for row in result66:\n",
    "    print(row)"
   ]
  },
  {
   "cell_type": "code",
   "execution_count": null,
   "metadata": {},
   "outputs": [],
   "source": [
    "#7.Find all venues for a specific complex (e.g., Nacional)\n",
    "\n",
    "cq7=\"\"\"\n",
    "SELECT \n",
    "    v.venue_id,\n",
    "    v.venue_name,\n",
    "    c.complex_name\n",
    "FROM \n",
    "    venue v\n",
    "JOIN \n",
    "    complexes c \n",
    "ON \n",
    "    v.complex_id = c.complex_id\n",
    "WHERE \n",
    "    c.complex_name = 'Nacional';\n",
    "\n",
    "\"\"\"\n",
    "mycursor.execute(cq7)\n",
    "result77=mycursor.fetchall()\n",
    "for row in result77:\n",
    "    print(row)"
   ]
  },
  {
   "cell_type": "code",
   "execution_count": 39,
   "metadata": {},
   "outputs": [],
   "source": [
    "insert_query5=\"\"\"\n",
    "insert into competitors(competitor_id,name_comp,country,country_code,abbreviation)values(%s,%s,%s,%s,%s)  \n",
    " ON DUPLICATE KEY UPDATE      \n",
    "    name_comp = VALUES(name_comp),\n",
    "    country = VALUES(country),\n",
    "    country_code = VALUES(country_code),\n",
    "    abbreviation = VALUES(abbreviation)\n",
    "\"\"\"\n",
    "for index,row in df6.iterrows():\n",
    "    mycursor.execute(insert_query5,(row[\"id\"],row[\"name\"],row[\"country\"],row[\"country_code\"],row[\"abbreviation\"]))\n",
    "    conn.commit()\n",
    "\n",
    "insert_query6=\"\"\"\n",
    "insert into competitor_rankings(ranks,movement,points,competitions_played,competitor_id)values(%s,%s,%s,%s,%s)\n",
    "\"\"\"\n",
    "for index ,row in df5.iterrows():\n",
    "    mycursor.execute(insert_query6,(row[\"rank\"],row[\"movement\"],row[\"points\"],row[\"competitions_played\"],row[\"competitor_id\"]))\n",
    "    conn.commit()"
   ]
  },
  {
   "cell_type": "code",
   "execution_count": 54,
   "metadata": {},
   "outputs": [],
   "source": [
    "#Execute the following SQL queries:\n",
    "#1.Get all competitors with their rank and points.\n",
    "#2.Find competitors ranked in the top 5\n",
    "#3.List competitors with no rank movement (stable rank)\n",
    "#4.Get the total points of competitors from a specific country (e.g., Croatia)\n",
    "#5.Count the number of competitors per country\n",
    "#6.Find competitors with the highest points in the current week\n"
   ]
  },
  {
   "cell_type": "code",
   "execution_count": null,
   "metadata": {},
   "outputs": [],
   "source": [
    "#1.Get all competitors with their rank and points.\n",
    "cr=\"\"\"\n",
    "select\n",
    "    c.competitor_id,\n",
    "    c.name_comp,\n",
    "    c.country,\n",
    "    c.country_code,\n",
    "    c.abbreviation,\n",
    "    r.ranks,\n",
    "    r.points\n",
    "from\n",
    "   competitors c\n",
    "join\n",
    "   competitor_rankings r on c.competitor_id = r.competitor_id\n",
    "   \"\"\"\n",
    "mycursor.execute(cr)\n",
    "result111=mycursor.fetchall()\n",
    "for row in result111:\n",
    "    print(row)"
   ]
  },
  {
   "cell_type": "code",
   "execution_count": null,
   "metadata": {},
   "outputs": [],
   "source": [
    "#2.Find competitors ranked in the top 5\n",
    "\n",
    "cr2=\"\"\"\n",
    "select\n",
    "    c.competitor_id,\n",
    "    c.name_comp,\n",
    "    r.ranks,\n",
    "    r.points\n",
    "from\n",
    "   competitors c\n",
    "join\n",
    "   competitor_rankings r on c.competitor_id = r.competitor_id\n",
    "where \n",
    "    r.ranks <=5;\n",
    "   \"\"\"\n",
    "mycursor.execute(cr2)\n",
    "result222=mycursor.fetchall()\n",
    "for row in result222:\n",
    "    print(row)"
   ]
  },
  {
   "cell_type": "code",
   "execution_count": 9,
   "metadata": {},
   "outputs": [],
   "source": [
    "#3.List competitors with no rank movement (stable rank)\n",
    "cr3=\"\"\"\n",
    "select\n",
    "    c.competitor_id,\n",
    "    c.name_comp,\n",
    "    r.ranks,\n",
    "    r.movement\n",
    "from\n",
    "   competitors c\n",
    "join\n",
    "   competitor_rankings r on c.competitor_id = r.competitor_id\n",
    "where \n",
    "    r.ranks =0;\n",
    "   \"\"\"\n",
    "mycursor.execute(cr3)\n",
    "result333=mycursor.fetchall()\n",
    "for row in result333:\n",
    "    print(row)"
   ]
  },
  {
   "cell_type": "code",
   "execution_count": null,
   "metadata": {},
   "outputs": [],
   "source": [
    "#4.Get the total points of competitors from a specific country (e.g., Croatia)\n",
    "cr4=\"\"\"\n",
    "SELECT \n",
    "    c.country, SUM(r.points) AS total_points\n",
    "FROM \n",
    "    competitors c\n",
    "JOIN \n",
    "    competitor_rankings r ON c.competitor_id = r.competitor_id\n",
    "WHERE \n",
    "   c.country = 'Croatia'\n",
    "GROUP BY c.country;\n",
    "\"\"\"\n",
    "mycursor.execute(cr4)\n",
    "result444=mycursor.fetchall()\n",
    "for row in result444:\n",
    "    print(row)"
   ]
  },
  {
   "cell_type": "code",
   "execution_count": null,
   "metadata": {},
   "outputs": [],
   "source": [
    "#5.Count the number of competitors per country\n",
    "cr5=\"\"\"\n",
    "SELECT \n",
    "    c.country ,COUNT(competitor_id) AS total_count\n",
    "FROM\n",
    "    competitors c\n",
    "GROUP BY c.country;\n",
    "\"\"\"\n",
    "mycursor.execute(cr5)\n",
    "result555=mycursor.fetchall()\n",
    "for row in result555:\n",
    "    print(row)"
   ]
  },
  {
   "cell_type": "code",
   "execution_count": null,
   "metadata": {},
   "outputs": [],
   "source": [
    "#6.Find competitors with the highest points in the current week\n",
    "cr6=\"\"\"\n",
    "SELECT max(points) AS APEX_POINT from competitor_rankings\n",
    "\"\"\"\n",
    "mycursor.execute(cr6)\n",
    "result666=mycursor.fetchall()\n",
    "for row in result666:\n",
    "    print(row)"
   ]
  }
 ],
 "metadata": {
  "kernelspec": {
   "display_name": "Python 3",
   "language": "python",
   "name": "python3"
  },
  "language_info": {
   "codemirror_mode": {
    "name": "ipython",
    "version": 3
   },
   "file_extension": ".py",
   "mimetype": "text/x-python",
   "name": "python",
   "nbconvert_exporter": "python",
   "pygments_lexer": "ipython3",
   "version": "3.13.1"
  }
 },
 "nbformat": 4,
 "nbformat_minor": 2
}
